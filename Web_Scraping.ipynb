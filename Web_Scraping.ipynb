{
 "cells": [
  {
   "cell_type": "code",
   "execution_count": 1,
   "metadata": {},
   "outputs": [],
   "source": [
    "from bs4 import BeautifulSoup as bs"
   ]
  },
  {
   "cell_type": "code",
   "execution_count": 2,
   "metadata": {},
   "outputs": [],
   "source": [
    "import requests"
   ]
  },
  {
   "cell_type": "code",
   "execution_count": 3,
   "metadata": {},
   "outputs": [
    {
     "data": {
      "text/plain": [
       "<Response [200]>"
      ]
     },
     "execution_count": 3,
     "metadata": {},
     "output_type": "execute_result"
    }
   ],
   "source": [
    "page = requests.get(\"https://posoco.in/reports/weekly-reports/weekly-reports-2020-21/\")\n",
    "page"
   ]
  },
  {
   "cell_type": "code",
   "execution_count": 4,
   "metadata": {},
   "outputs": [],
   "source": [
    "soup = bs(page.content, 'html.parser')"
   ]
  },
  {
   "cell_type": "code",
   "execution_count": 5,
   "metadata": {},
   "outputs": [],
   "source": [
    "arr=soup.find_all('a')"
   ]
  },
  {
   "cell_type": "code",
   "execution_count": 6,
   "metadata": {},
   "outputs": [
    {
     "data": {
      "text/plain": [
       "229"
      ]
     },
     "execution_count": 6,
     "metadata": {},
     "output_type": "execute_result"
    }
   ],
   "source": [
    "len(arr)"
   ]
  },
  {
   "cell_type": "code",
   "execution_count": 7,
   "metadata": {},
   "outputs": [
    {
     "data": {
      "text/plain": [
       "[<a href=\"https://posoco.in/\"><img alt=\"POSOCO_Final_Logo\" class=\"size-full wp-image-75 alignleft\" height=\"110\" src=\"https://posoco.in/wp-content/uploads/2016/06/POSOCO_Final_Logo.png\" width=\"106\"/></a>,\n",
       " <a href=\"https://posoco.in/wp-content/uploads/2019/01/IMS-Policy.pdf\" rel=\"noopener\" style=\"float: right; font-weight: 800; padding: 5px 0px;\" target=\"_blank\">IMS-Policy-2019</a>,\n",
       " <a href=\"https://posoco.in/wp-content/uploads/2019/05/ISO.pdf\" rel=\"noopener noreferrer\" target=\"_blank\"><img alt=\"OHSAS-18001-2007\" class=\"alignright size-full wp-image-5608\" height=\"50\" src=\"https://posoco.in/wp-content/uploads/2019/05/ISO_update.png\" style=\"max-height: 45px;\"/></a>,\n",
       " <a href=\"https://posoco.in/wp-content/uploads/2019/05/ISO.pdf\"><img alt=\"\" class=\"alignright size-full wp-image-17093\" height=\"50\" src=\"https://posoco.in/wp-content/uploads/2018/04/ISO-14001-2015.jpg\" style=\"max-height: 45px;\"/></a>,\n",
       " <a href=\"https://posoco.in/wp-content/uploads/2019/05/ISO.pdf\"><img alt=\"\" class=\"alignright size-full wp-image-17184\" height=\"50\" src=\"https://posoco.in/wp-content/uploads/2018/04/ISO-IEC-27001-2013.jpg\" style=\"max-height: 45px;\"/></a>,\n",
       " <a href=\"https://posoco.in/wp-content/uploads/2019/05/ISO.pdf\"><img alt=\"\" class=\"alignright size-full wp-image-17092\" height=\"50\" src=\"https://posoco.in/wp-content/uploads/2018/04/ISO-9001-2015.png\" style=\"max-height: 45px;\"/></a>,\n",
       " <a href=\"https://posoco.in/wp-login.php\" rel=\"noopener noreferrer\" target=\"_blank\">Login</a>,\n",
       " <a href=\"https://posoco.in/intranet/\" rel=\"noopener noreferrer\" target=\"_blank\">Intranet</a>,\n",
       " <a href=\"https://mail.posoco.in/owa\" rel=\"noopener noreferrer\" target=\"_blank\">Mail</a>,\n",
       " <a class=\"qtranxs_text qtranxs_text_en\" href=\"https://posoco.in/en/reports/weekly-reports/weekly-reports-2020-21/\" hreflang=\"en\" title=\"English (en)\"><span>English</span></a>,\n",
       " <a class=\"qtranxs_text qtranxs_text_hi\" href=\"https://posoco.in/hi/reports/weekly-reports/weekly-reports-2020-21/\" hreflang=\"hi\" title=\"हिन्दी (hi)\"><span>हिन्दी</span></a>,\n",
       " <a href=\"https://posoco.in\" itemprop=\"url\"><span itemprop=\"name\">Home</span></a>,\n",
       " <a href=\"https://posoco.in/about-us/\" itemprop=\"url\"><span itemprop=\"name\">About Us</span></a>,\n",
       " <a href=\"https://posoco.in/about-us/annual-reports/\" itemprop=\"url\"><span itemprop=\"name\">Annual Reports</span></a>,\n",
       " <a href=\"https://posoco.in/about-us/board-of-directors/\" itemprop=\"url\"><span itemprop=\"name\">Board of Directors</span></a>,\n",
       " <a href=\"https://posoco.in/chief-vigilance-officer-cvo/\" itemprop=\"url\"><span itemprop=\"name\">Chief Vigilance Officer (CVO)</span></a>,\n",
       " <a href=\"/wp-content/uploads/2019/08/Code-of-Business-Conduct-Ethics-for-Board-Members-and-Senior-Mangement.pdf\" itemprop=\"url\" target=\"_blank\"><span itemprop=\"name\">Code of Business Conduct and Ethics</span></a>,\n",
       " <a href=\"/wp-content/uploads/2019/08/Modification-in-Code.pdf\" itemprop=\"url\" target=\"_blank\"><span itemprop=\"name\">Circular Code</span></a>,\n",
       " <a href=\"/wp-content/uploads/2019/08/POSOCO_Document-Retention-Policy_09072019.pdf\" itemprop=\"url\" target=\"_blank\"><span itemprop=\"name\">Document Retention Policy</span></a>,\n",
       " <a href=\"https://posoco.in/about-us/functions-of-nldc/\" itemprop=\"url\"><span itemprop=\"name\">Functions of NLDC</span></a>,\n",
       " <a href=\"https://posoco.in/about-us/mission-objectives-functions/\" itemprop=\"url\"><span itemprop=\"name\">Mission &amp; Objectives</span></a>,\n",
       " <a href=\"https://posoco.in/about-us/origin/\" itemprop=\"url\"><span itemprop=\"name\">Origin</span></a>,\n",
       " <a href=\"https://posoco.in/about-us/the-organization/\" itemprop=\"url\"><span itemprop=\"name\">The Organization</span></a>,\n",
       " <a href=\"#\" itemprop=\"url\"><span itemprop=\"name\">MoU</span></a>,\n",
       " <a href=\"https://posoco.in/wp-content/uploads/2020/03/MoU-2019-20.pdf\" itemprop=\"url\" target=\"_blank\"><span itemprop=\"name\">MoU 2019-20</span></a>,\n",
       " <a href=\"https://posoco.in/wp-content/uploads/2019/05/MoU-2018-19.pdf\" itemprop=\"url\" target=\"_blank\"><span itemprop=\"name\">MoU 2018-19</span></a>,\n",
       " <a href=\"https://posoco.in/wp-content/uploads/2017/05/MoU-2017-18.pdf\" itemprop=\"url\" target=\"_blank\"><span itemprop=\"name\">MoU 2017-18</span></a>,\n",
       " <a href=\"https://posoco.in/wp-content/uploads/2017/05/Corporate-Plan-2017-18.pdf\" itemprop=\"url\"><span itemprop=\"name\">Corporate Plan</span></a>,\n",
       " <a href=\"https://posoco.in/useful-links/csr/\" itemprop=\"url\"><span itemprop=\"name\">CSR</span></a>,\n",
       " <a href=\"https://posoco.in/photo-video-gallery/\" itemprop=\"url\"><span itemprop=\"name\">Photo / Video Gallery</span></a>,\n",
       " <a href=\"#\" itemprop=\"url\"><span itemprop=\"name\">Market</span></a>,\n",
       " <a href=\"https://posoco.in/market/ancillary-services/\" itemprop=\"url\"><span itemprop=\"name\">Ancillary Services</span></a>,\n",
       " <a href=\"https://recregistryindia.nic.in/\" itemprop=\"url\" target=\"_blank\"><span itemprop=\"name\">REC</span></a>,\n",
       " <a href=\"https://posoco.in/dsm-rates/\" itemprop=\"url\"><span itemprop=\"name\">DSM Rates</span></a>,\n",
       " <a href=\"https://beenet.gov.in/UI_Forms/Registry/default.aspx\" itemprop=\"url\"><span itemprop=\"name\">PAT Scheme</span></a>,\n",
       " <a href=\"https://posoco.in/market/registered-traders/\" itemprop=\"url\"><span itemprop=\"name\">Registered Traders</span></a>,\n",
       " <a href=\"#\" itemprop=\"url\"><span itemprop=\"name\">Congestion Formats</span></a>,\n",
       " <a href=\"https://posoco.in/market/warning-notice-format-iii/\" itemprop=\"url\"><span itemprop=\"name\">Warning Notice (Format III)</span></a>,\n",
       " <a href=\"https://posoco.in/market/application-of-charge-notice-format-iv/\" itemprop=\"url\"><span itemprop=\"name\">Application of Charge Notice (Format IV)</span></a>,\n",
       " <a href=\"https://posoco.in/market/withdrawal-notice-format-v/\" itemprop=\"url\"><span itemprop=\"name\">Withdrawal Notice (Format V)</span></a>,\n",
       " <a href=\"https://posoco.in/market/congestion-charge/\" itemprop=\"url\"><span itemprop=\"name\">Statement of Congestion Charge (Format VI)</span></a>,\n",
       " <a href=\"https://posoco.in/market/congestion-monitoring/\" itemprop=\"url\" target=\"_blank\"><span itemprop=\"name\">Congestion Monitoring</span></a>,\n",
       " <a href=\"https://posoco.in/market/market-information/\" itemprop=\"url\"><span itemprop=\"name\">Market Information</span></a>,\n",
       " <a href=\"#\" itemprop=\"url\"><span itemprop=\"name\">Monthly ATC</span></a>,\n",
       " <a href=\"https://posoco.in/market/monthly-atc-inter-country/\" itemprop=\"url\"><span itemprop=\"name\">Inter Country</span></a>,\n",
       " <a href=\"https://posoco.in/market/monthly-atc-inter-regional/\" itemprop=\"url\"><span itemprop=\"name\">Inter Regional</span></a>,\n",
       " <a href=\"https://posoco.in/market/monthly-atc-intra-regional/\" itemprop=\"url\"><span itemprop=\"name\">Intra Regional</span></a>,\n",
       " <a href=\"#\" itemprop=\"url\"><span itemprop=\"name\">Open Access</span></a>,\n",
       " <a href=\"https://posoco.in/open-access/bilateral/\" itemprop=\"url\"><span itemprop=\"name\">Bilateral</span></a>,\n",
       " <a href=\"https://posoco.in/open-access/collective/\" itemprop=\"url\"><span itemprop=\"name\">Collective</span></a>,\n",
       " <a href=\"https://posoco.in/open-access/collective/day-ahead-market/\" itemprop=\"url\"><span itemprop=\"name\">Day Ahead Market</span></a>,\n",
       " <a href=\"https://posoco.in/open-access/collective/real-time-market/\" itemprop=\"url\"><span itemprop=\"name\">Real Time Market</span></a>,\n",
       " <a href=\"https://posoco.in/open-access/documents-oa/\" itemprop=\"url\"><span itemprop=\"name\">Documents</span></a>,\n",
       " <a href=\"https://posoco.in/open-access/stu-charges/\" itemprop=\"url\"><span itemprop=\"name\">STU Charges</span></a>,\n",
       " <a href=\"https://webapps.powergrid.in/ctu/u/static-page.aspx?d=1MV8RJ6djYE\" itemprop=\"url\" target=\"_blank\"><span itemprop=\"name\">TTC / ATC Declaration by CTU</span></a>,\n",
       " <a href=\"#\" itemprop=\"url\"><span itemprop=\"name\">SCED</span></a>,\n",
       " <a href=\"https://posoco.in/cerc-order/\" itemprop=\"url\"><span itemprop=\"name\">CERC Order</span></a>,\n",
       " <a href=\"https://posoco.in/detailed-procedure/\" itemprop=\"url\"><span itemprop=\"name\">Detailed Procedure</span></a>,\n",
       " <a href=\"https://posoco.in/bank-details/\" itemprop=\"url\"><span itemprop=\"name\">Bank details</span></a>,\n",
       " <a href=\"https://posoco.in/national-sced-settlement-statement/\" itemprop=\"url\"><span itemprop=\"name\">National SCED Settlement Statement</span></a>,\n",
       " <a href=\"https://posoco.in/nation-sced-benefit-sharing-statement/\" itemprop=\"url\"><span itemprop=\"name\">National SCED benefit sharing statement</span></a>,\n",
       " <a href=\"https://posoco.in/national-statement-of-compensation-due-to-part-load-operation-on-account-of-sced/\" itemprop=\"url\"><span itemprop=\"name\">National Statement of Compensation due to Part Load Operation on Account of SCED</span></a>,\n",
       " <a href=\"https://posoco.in/reconciliation/\" itemprop=\"url\"><span itemprop=\"name\">Reconciliation</span></a>,\n",
       " <a href=\"https://posoco.in/wp-content/uploads/2019/09/Interim-Feedback-Report-Pilot-on-SCED.pdf\" itemprop=\"url\" target=\"_blank\"><span itemprop=\"name\">Interim Feedback Report of Pilot on SCED</span></a>,\n",
       " <a href=\"https://posoco.in/wp-content/uploads/2020/02/POSOCO_SCED_Pilot_Detailed_Feedback_Report_Jan_2020.pdf\" itemprop=\"url\" target=\"_blank\"><span itemprop=\"name\">Detailed Feedback Report on SCED Pilot – Jan 2020</span></a>,\n",
       " <a href=\"#\" itemprop=\"url\"><span itemprop=\"name\">Renewables</span></a>,\n",
       " <a href=\"https://posoco.in/wp-content/uploads/2017/03/pro.pdf\" itemprop=\"url\" target=\"_blank\"><span itemprop=\"name\">RE Framework Procedures</span></a>,\n",
       " <a href=\"https://posoco.in/re-curtailments/\" itemprop=\"url\"><span itemprop=\"name\">RE Curtailments</span></a>,\n",
       " <a href=\"#\" itemprop=\"url\"><span itemprop=\"name\">Reports</span></a>,\n",
       " <a href=\"#\" itemprop=\"url\"><span itemprop=\"name\">Ancillary Services</span></a>,\n",
       " <a href=\"https://posoco.in/reports/as3-details/\" itemprop=\"url\"><span itemprop=\"name\">RRAS Providers Details</span></a>,\n",
       " <a href=\"https://posoco.in/reports/ancillary-services-monthly-reports/\" itemprop=\"url\"><span itemprop=\"name\">Monthly Reports</span></a>,\n",
       " <a href=\"http://rras.nldc.in/\" itemprop=\"url\" target=\"_blank\"><span itemprop=\"name\">RRAS Instruction Summary</span></a>,\n",
       " <a href=\"https://posoco.in/reports/half-year-feedback-to-cerc/\" itemprop=\"url\"><span itemprop=\"name\">Half Year Feedback to CERC</span></a>,\n",
       " <a href=\"https://posoco.in/report-fras-pilot-project-experience-and-feedback/\" itemprop=\"url\" target=\"_blank\"><span itemprop=\"name\">FRAS Feedback Report</span></a>,\n",
       " <a href=\"https://posoco.in/reports/daily-reports/\" itemprop=\"url\"><span itemprop=\"name\">Daily Reports</span></a>,\n",
       " <a href=\"https://posoco.in/reports/weekly-reports/\" itemprop=\"url\"><span itemprop=\"name\">Weekly Reports</span></a>,\n",
       " <a href=\"https://posoco.in/reports/monthly-reports/\" itemprop=\"url\"><span itemprop=\"name\">Monthly Reports</span></a>,\n",
       " <a href=\"https://posoco.in/reports/electricity-demand-pattern-analysis/\" itemprop=\"url\"><span itemprop=\"name\">Electricity Demand Pattern Analysis</span></a>,\n",
       " <a href=\"https://posoco.in/reports/frequency-profile/\" itemprop=\"url\"><span itemprop=\"name\">Frequency Profile</span></a>,\n",
       " <a href=\"#\" itemprop=\"url\"><span itemprop=\"name\">System Reliability Indices</span></a>,\n",
       " <a href=\"#\" itemprop=\"url\"><span itemprop=\"name\">Daily</span></a>,\n",
       " <a href=\"https://posoco.in/reports/system-reliability-indices/daily-angular-difference/\" itemprop=\"url\"><span itemprop=\"name\">Angular Difference</span></a>,\n",
       " <a href=\"https://posoco.in/reports/system-reliability-indices/daily-vdittcatc/\" itemprop=\"url\"><span itemprop=\"name\">VDI/TTC/ATC</span></a>,\n",
       " <a href=\"#\" itemprop=\"url\"><span itemprop=\"name\">Weekly</span></a>,\n",
       " <a href=\"https://posoco.in/reports/system-reliability-indices/weekly-angular-difference/\" itemprop=\"url\"><span itemprop=\"name\">Angular Difference</span></a>,\n",
       " <a href=\"https://posoco.in/reports/system-reliability-indices/weekly-vdittcatc/\" itemprop=\"url\"><span itemprop=\"name\">VDI/TTC/ATC</span></a>,\n",
       " <a href=\"#\" itemprop=\"url\"><span itemprop=\"name\">Monthly</span></a>,\n",
       " <a href=\"https://posoco.in/reports/system-reliability-indices/monthly-vdittcatc/\" itemprop=\"url\"><span itemprop=\"name\">VDI/FDI/System Reliability</span></a>,\n",
       " <a href=\"https://posoco.in/grid-disturbancesincidence/\" itemprop=\"url\"><span itemprop=\"name\">Grid Disturbances / Incidences</span></a>,\n",
       " <a href=\"https://posoco.in/reports/telemetry-status/\" itemprop=\"url\"><span itemprop=\"name\">Telemetry Status</span></a>,\n",
       " <a href=\"#\" itemprop=\"url\"><span itemprop=\"name\">Payment Security Mechanism</span></a>,\n",
       " <a href=\"https://posoco.in/reports/psm-daily-reports/\" itemprop=\"url\"><span itemprop=\"name\">Daily Reports</span></a>,\n",
       " <a href=\"https://posoco.in/psm-weekly-reports/\" itemprop=\"url\"><span itemprop=\"name\">Weekly Reports</span></a>,\n",
       " <a href=\"https://posoco.in/wp-content/uploads/2018/08/REC_REPORT_17082018_fPRINT.pdf\" itemprop=\"url\" target=\"_blank\"><span itemprop=\"name\">Renewable Energy Certificate(REC) Mechanism</span></a>,\n",
       " <a href=\"https://posoco.in/knowledge-portal/\" itemprop=\"url\"><span itemprop=\"name\">Technical Papers</span></a>,\n",
       " <a href=\"#\" itemprop=\"url\"><span itemprop=\"name\">Scheduling</span></a>,\n",
       " <a href=\"http://wbs.nldc.in:83/wbs/neturs.aspx\" itemprop=\"url\" target=\"_blank\"><span itemprop=\"name\">All India URS</span></a>,\n",
       " <a href=\"http://wbs.nldc.in:83/wbs/dc.aspx\" itemprop=\"url\" target=\"_blank\"><span itemprop=\"name\">Declared Capability</span></a>,\n",
       " <a href=\"http://wbs.nldc.in:83/wbs/ent.aspx\" itemprop=\"url\" target=\"_blank\"><span itemprop=\"name\">Entitlement</span></a>,\n",
       " <a href=\"http://wbs.nldc.in:83/wbs/netdrwlsch.aspx\" itemprop=\"url\" target=\"_blank\"><span itemprop=\"name\">Drawal Schedule</span></a>,\n",
       " <a href=\"http://wbs.nldc.in:83/wbs/netinjprof.aspx\" itemprop=\"url\" target=\"_blank\"><span itemprop=\"name\">Bhutan Injection Profile</span></a>,\n",
       " <a href=\"http://wbs.nldc.in:83/wbs/corsch.aspx\" itemprop=\"url\" target=\"_blank\"><span itemprop=\"name\">IR Drawal Schedule</span></a>,\n",
       " <a href=\"#\" itemprop=\"url\"><span itemprop=\"name\">Changes in last revision</span></a>,\n",
       " <a href=\"http://wbs.nldc.in:83/wbs/vwchngsinlastrevsta.aspx\" itemprop=\"url\" target=\"_blank\"><span itemprop=\"name\">Stations</span></a>,\n",
       " <a href=\"http://wbs.nldc.in:83/wbs/vwchngsinlastrevstt.aspx\" itemprop=\"url\" target=\"_blank\"><span itemprop=\"name\">State</span></a>,\n",
       " <a href=\"#\" itemprop=\"url\"><span itemprop=\"name\">Implemented Schedule</span></a>,\n",
       " <a href=\"http://wbs.nldc.in:83/wbs/iminjsch.aspx\" itemprop=\"url\" target=\"_blank\"><span itemprop=\"name\">Form A</span></a>,\n",
       " <a href=\"http://wbs.nldc.in:83/wbs/iment.aspx\" itemprop=\"url\" target=\"_blank\"><span itemprop=\"name\">Form B</span></a>,\n",
       " <a href=\"http://wbs.nldc.in:83/wbs/imnetdrwlsch.aspx\" itemprop=\"url\" target=\"_blank\"><span itemprop=\"name\">Form c</span></a>,\n",
       " <a href=\"http://wbs.nldc.in:83/wbs/imcorsch.aspx\" itemprop=\"url\" target=\"_blank\"><span itemprop=\"name\">IR Drawal</span></a>,\n",
       " <a href=\"http://wbs.nldc.in:83/wbs/losses.aspx\" itemprop=\"url\" target=\"_blank\"><span itemprop=\"name\">Losses</span></a>,\n",
       " <a href=\"#\" itemprop=\"url\"><span itemprop=\"name\">Open Access</span></a>,\n",
       " <a href=\"https://posoco.in/scheduling/scheduling-open-access/\" itemprop=\"url\"><span itemprop=\"name\">Approvals</span></a>,\n",
       " <a href=\"https://posoco.in/scheduling/open-access-schedules/\" itemprop=\"url\"><span itemprop=\"name\">Schedules</span></a>,\n",
       " <a href=\"http://wbs.nldc.in:83/\" itemprop=\"url\" target=\"_blank\"><span itemprop=\"name\">Scheduling Application</span></a>,\n",
       " <a href=\"#\" itemprop=\"url\"><span itemprop=\"name\">Transmission Pricing</span></a>,\n",
       " <a href=\"https://posoco.in/transmission-pricing/approved-procedures/\" itemprop=\"url\"><span itemprop=\"name\">Approved Procedures</span></a>,\n",
       " <a href=\"https://posoco.in/transmission-pricing/downloads/\" itemprop=\"url\"><span itemprop=\"name\">Downloads</span></a>,\n",
       " <a href=\"https://posoco.in/transmission-pricing/faqs/\" itemprop=\"url\"><span itemprop=\"name\">FAQs</span></a>,\n",
       " <a href=\"https://posoco.in/transmission-pricing/formats-for-data-submission/\" itemprop=\"url\"><span itemprop=\"name\">Formats for Data Submission</span></a>,\n",
       " <a href=\"https://posoco.in/transmission-pricing/poc-data/\" itemprop=\"url\"><span itemprop=\"name\">POC Data</span></a>,\n",
       " <a href=\"https://posoco.in/transmission-pricing/regulation/\" itemprop=\"url\"><span itemprop=\"name\">Regulation</span></a>,\n",
       " <a href=\"https://posoco.in/side-menu-pages/applicable-transmission-losses/\" itemprop=\"url\"><span itemprop=\"name\">Transmission Losses</span></a>,\n",
       " <a href=\"https://posoco.in/transmission-pricing/poc-orders/\" itemprop=\"url\"><span itemprop=\"name\">PoC Orders</span></a>,\n",
       " <a href=\"#\" itemprop=\"url\"><span itemprop=\"name\">Publications</span></a>,\n",
       " <a href=\"#\" itemprop=\"url\"><span itemprop=\"name\">Published Reports</span></a>,\n",
       " <a href=\"https://posoco.in/wp-content/uploads/2020/09/Solar-Eclipse-21st-June-2020-Analysis-of-its-impact-on-Indian-Power-System-A-Report.pdf\" itemprop=\"url\"><span itemprop=\"name\">Solar Eclipse 21st June 2020_Analysis of its impact on Indian Power System-A Report</span></a>,\n",
       " <a href=\"https://posoco.in/wp-content/uploads/2020/06/Solar-Eclipse-dated-210620_likely-impacts-and-preparedness-A-report.pdf\" itemprop=\"url\"><span itemprop=\"name\">Solar Eclipse dated 21.06.20 likely impacts and preparedness – A report</span></a>,\n",
       " <a href=\"https://posoco.in/wp-content/uploads/2020/05/Flexibility-Analysis-of-Thermal-Generation-for-RE-Integration-in-India-1.pdf\" itemprop=\"url\" target=\"_blank\"><span itemprop=\"name\">Report on Flexibility Analysis of Thermal Generation for Renewable Integration in India</span></a>,\n",
       " <a href=\"https://posoco.in/wp-content/uploads/2020/05/Report-on-Pan-India-Lights-Off-Event-9-PM-9-Minutes-on-5th-April-2020-1.pdf\" itemprop=\"url\" target=\"_blank\"><span itemprop=\"name\">Report on Pan India Lights Off Event (9 PM 9 Minutes) on 5th April 2020</span></a>,\n",
       " <a href=\"https://posoco.in/wp-content/uploads/2020/02/Solar-Eclipse-26th-December-2019-Analysis-of-its-imapct-on-Indian-Power-System-A-report.pdf\" itemprop=\"url\" target=\"_blank\"><span itemprop=\"name\">Solar Eclipse Analysis of its impact on Indian Power System – A report</span></a>,\n",
       " <a href=\"https://posoco.in/wp-content/uploads/2019/12/Solar-Eclipse-26th-December-2019-Indian-Power-System-likely-impacts-and-preparedness-A-report.pdf\" itemprop=\"url\" target=\"_blank\"><span itemprop=\"name\">Solar Eclipse Indian Power System likely impacts and preparedness- A Report</span></a>,\n",
       " <a href=\"https://posoco.in/documents/operational-feedback-on-transmission-constraints/\" itemprop=\"url\"><span itemprop=\"name\">Operational Feedback</span></a>,\n",
       " <a href=\"https://posoco.in/documents/published-papers/\" itemprop=\"url\"><span itemprop=\"name\">Published Papers</span></a>,\n",
       " <a href=\"https://posoco.in/documents/consultation-papers/\" itemprop=\"url\"><span itemprop=\"name\">Consultation Papers</span></a>,\n",
       " <a href=\"https://posoco.in/download/analysis-of-ramping-capability-of-coal-fired-generation-in-india/?wpdmdl=23042\" itemprop=\"url\" target=\"_blank\"><span itemprop=\"name\">Analysis of Ramping Capability</span></a>,\n",
       " <a href=\"https://posoco.in/hydro-committee-report/\" itemprop=\"url\"><span itemprop=\"name\">Hydro Committee Report</span></a>,\n",
       " <a href=\"https://posoco.in/reports/india-renewable-integration-study-report/\" itemprop=\"url\"><span itemprop=\"name\">India Renewable Integration Study Report</span></a>,\n",
       " <a href=\"https://posoco.in/wp-content/uploads/2018/09/Reference-Document-on-Weather-Information-Portal-for-Indian-Power-System.pdf\" itemprop=\"url\" target=\"_blank\"><span itemprop=\"name\">Reference Document on Weather Portal</span></a>,\n",
       " <a href=\"https://posoco.in/spinning-reserves/\" itemprop=\"url\"><span itemprop=\"name\">Spinning Reserves</span></a>,\n",
       " <a href=\"https://posoco.in/reports/other-reports/\" itemprop=\"url\"><span itemprop=\"name\">Other Reports</span></a>,\n",
       " <a href=\"#\" itemprop=\"url\"><span itemprop=\"name\">HR</span></a>,\n",
       " <a href=\"http://hr.posoco.in\" itemprop=\"url\"><span itemprop=\"name\">HR website</span></a>,\n",
       " <a href=\"https://posoco.in/hrd-calendar/\" itemprop=\"url\"><span itemprop=\"name\">HRD</span></a>,\n",
       " <a href=\"https://posoco.in/side-menu-pages/rajbhasha/\" itemprop=\"url\"><span itemprop=\"name\">Rajbhasha</span></a>,\n",
       " <a href=\"https://posoco.in/side-menu-pages/internship-guidelines/\" itemprop=\"url\"><span itemprop=\"name\">Internship</span></a>,\n",
       " <a href=\"https://posoco.in/side-menu-pages/posoco-power-system-awards/\" itemprop=\"url\"><span itemprop=\"name\">PPSA</span></a>,\n",
       " <a href=\"https://posoco.in/#/\" itemprop=\"url\"><span itemprop=\"name\">Ex Employee Login</span></a>,\n",
       " <a href=\"#\" itemprop=\"url\"><span itemprop=\"name\">Useful Links</span></a>,\n",
       " <a href=\"#\" itemprop=\"url\"><span itemprop=\"name\">RLDCs</span></a>,\n",
       " <a href=\"http://www.nrldc.in/\" itemprop=\"url\" target=\"_blank\"><span itemprop=\"name\">NRLDC</span></a>,\n",
       " <a href=\"http://www.wrldc.in/\" itemprop=\"url\" target=\"_blank\"><span itemprop=\"name\">WRLDC</span></a>,\n",
       " <a href=\"http://www.srldc.in/\" itemprop=\"url\" target=\"_blank\"><span itemprop=\"name\">SRLDC</span></a>,\n",
       " <a href=\"http://www.nerldc.in/\" itemprop=\"url\" target=\"_blank\"><span itemprop=\"name\">NERLDC</span></a>,\n",
       " <a href=\"https://erldc.in/\" itemprop=\"url\" target=\"_blank\"><span itemprop=\"name\">ERLDC</span></a>,\n",
       " <a href=\"https://forumofld.in/\" itemprop=\"url\" target=\"_blank\"><span itemprop=\"name\">FOLD</span></a>,\n",
       " <a href=\"https://psdfindia.in/\" itemprop=\"url\" target=\"_blank\"><span itemprop=\"name\">PSDF</span></a>,\n",
       " <a href=\"http://www.vidyutpravah.in/\" itemprop=\"url\" target=\"_blank\"><span itemprop=\"name\">Vidyut Pravah</span></a>,\n",
       " <a href=\"http://powermin.nic.in/\" itemprop=\"url\" target=\"_blank\"><span itemprop=\"name\">MoP</span></a>,\n",
       " <a href=\"http://www.cercind.gov.in/\" itemprop=\"url\" target=\"_blank\"><span itemprop=\"name\">CERC</span></a>,\n",
       " <a href=\"http://www.mnre.gov.in/\" itemprop=\"url\" target=\"_blank\"><span itemprop=\"name\">MNRE</span></a>,\n",
       " <a href=\"http://www.imd.gov.in/\" itemprop=\"url\" target=\"_blank\"><span itemprop=\"name\">Weather</span></a>,\n",
       " <a href=\"http://www.egazette.nic.in/(S(4figs0z3umcob252kksvpweg))/default.aspx?AcceptsCookies=yes\" itemprop=\"url\" target=\"_blank\"><span itemprop=\"name\">E-Gazette</span></a>,\n",
       " <a href=\"http://fin.posoco.in/POSOCO\" itemprop=\"url\" target=\"_blank\"><span itemprop=\"name\">Finance Website</span></a>,\n",
       " <a href=\"https://posoco.in/vigilance/\" itemprop=\"url\"><span itemprop=\"name\">Vigilance</span></a>,\n",
       " <a href=\"https://posoco.in/side-menu-pages/disaster-management/\" itemprop=\"url\"><span itemprop=\"name\">Disaster Management</span></a>,\n",
       " <a href=\"http://ams.posoco.in/ams\" itemprop=\"url\" target=\"_blank\"><span itemprop=\"name\">Attendance Management</span></a>,\n",
       " <a href=\"http://www.go15.org/\" itemprop=\"url\"><span itemprop=\"name\">GO15</span></a>,\n",
       " <a href=\"https://pledge.cvc.nic.in/\" itemprop=\"url\"><span itemprop=\"name\">CVC PLEDGE</span></a>,\n",
       " <a href=\"http://14.139.247.5/power/NRLDC/\" itemprop=\"url\"><span itemprop=\"name\">Weather Portal</span></a>,\n",
       " <a href=\"https://posoco.in/notices/\" itemprop=\"url\"><span itemprop=\"name\">Notices</span></a>,\n",
       " <a href=\"https://posoco.in/media/\" itemprop=\"url\"><span itemprop=\"name\">Media</span></a>,\n",
       " <a href=\"#\" itemprop=\"url\"><span itemprop=\"name\">Careers</span></a>,\n",
       " <a href=\"https://posoco.in/careers/\" itemprop=\"url\"><span itemprop=\"name\">Openings (recruitment)</span></a>,\n",
       " <a href=\"https://posoco.in/candidate-downloads/\" itemprop=\"url\"><span itemprop=\"name\">Candidate Downloads</span></a>,\n",
       " <a href=\"https://posoco.in/other-notification/\" itemprop=\"url\"><span itemprop=\"name\">Notifications</span></a>,\n",
       " <a href=\"https://posoco.in/covid-19/\" itemprop=\"url\"><span itemprop=\"name\">COVID-19</span></a>,\n",
       " <a class=\"btn btn-primary month\" data-mname=\"all\" data-month=\"0\" id=\"all\">All</a>,\n",
       " <a class=\"btn btn-primary month\" data-mname=\"apr\" data-month=\"4\" id=\"apr\">April</a>,\n",
       " <a class=\"btn btn-primary month\" data-mname=\"may\" data-month=\"5\" id=\"may\">May</a>,\n",
       " <a class=\"btn btn-primary month\" data-mname=\"jun\" data-month=\"6\" id=\"jun\">June</a>,\n",
       " <a class=\"btn btn-primary month\" data-mname=\"jul\" data-month=\"7\" id=\"jul\">July</a>,\n",
       " <a class=\"btn btn-primary month\" data-mname=\"aug\" data-month=\"8\" id=\"aug\">August</a>,\n",
       " <a class=\"btn btn-primary month\" data-mname=\"sep\" data-month=\"9\" id=\"sep\">September</a>,\n",
       " <a class=\"btn btn-primary month\" data-mname=\"oct\" data-month=\"10\" id=\"oct\">October</a>,\n",
       " <a class=\"btn btn-primary month\" data-mname=\"nov\" data-month=\"11\" id=\"nov\">November</a>,\n",
       " <a class=\"btn btn-primary month\" data-mname=\"dec\" data-month=\"12\" id=\"dec\">December</a>,\n",
       " <a class=\"btn btn-primary month\" data-mname=\"jan\" data-month=\"1\" id=\"jan\">January</a>,\n",
       " <a class=\"btn btn-primary month\" data-mname=\"feb\" data-month=\"2\" id=\"feb\">February</a>,\n",
       " <a class=\"btn btn-primary month\" data-mname=\"mar\" data-month=\"3\" id=\"mar\">March</a>,\n",
       " <a href=\"https://posoco.in/download/weekly-051020-to-111020/?wpdmdl=32448\">\n",
       " \t\t\t\t\t\t\t\t\tWeekly 051020 to 111020\t\t\t\t\t\t\t\t\t</a>,\n",
       " <a href=\"https://posoco.in/download/weekly-280920-to-041020/?wpdmdl=32383\">\n",
       " \t\t\t\t\t\t\t\t\tWeekly 280920 to 041020\t\t\t\t\t\t\t\t\t</a>,\n",
       " <a href=\"https://posoco.in/download/weekly-210920-to-270920/?wpdmdl=32198\">\n",
       " \t\t\t\t\t\t\t\t\tWeekly 210920 to 270920\t\t\t\t\t\t\t\t\t</a>,\n",
       " <a href=\"https://posoco.in/download/weekly-140920-to-200920/?wpdmdl=31989\">\n",
       " \t\t\t\t\t\t\t\t\tWeekly 140920 to 200920\t\t\t\t\t\t\t\t\t</a>,\n",
       " <a href=\"https://posoco.in/download/weekly-070920-to-130920/?wpdmdl=31908\">\n",
       " \t\t\t\t\t\t\t\t\tWeekly 070920 to 130920\t\t\t\t\t\t\t\t\t</a>,\n",
       " <a href=\"https://posoco.in/download/weekly-310820-to-060920/?wpdmdl=31733\">\n",
       " \t\t\t\t\t\t\t\t\tWeekly 310820 to 060920\t\t\t\t\t\t\t\t\t</a>,\n",
       " <a href=\"https://posoco.in/download/weekly-240820-to-300820/?wpdmdl=31552\">\n",
       " \t\t\t\t\t\t\t\t\tWeekly 240820 to 300820\t\t\t\t\t\t\t\t\t</a>,\n",
       " <a href=\"https://posoco.in/download/weekly-170820-to-230820/?wpdmdl=31456\">\n",
       " \t\t\t\t\t\t\t\t\tWeekly 170820 to 230820\t\t\t\t\t\t\t\t\t</a>,\n",
       " <a href=\"https://posoco.in/download/weekly-100820-to-160820/?wpdmdl=31202\">\n",
       " \t\t\t\t\t\t\t\t\tWeekly 100820 to 160820\t\t\t\t\t\t\t\t\t</a>,\n",
       " <a href=\"https://posoco.in/download/weekly-030820-to-090820/?wpdmdl=30947\">\n",
       " \t\t\t\t\t\t\t\t\tWeekly 030820 to 090820\t\t\t\t\t\t\t\t\t</a>,\n",
       " <a href=\"https://posoco.in/download/weekly-270720-to-020820/?wpdmdl=30740\">\n",
       " \t\t\t\t\t\t\t\t\tWeekly 270720 to 020820\t\t\t\t\t\t\t\t\t</a>,\n",
       " <a href=\"https://posoco.in/download/weekly-190720-to-250820/?wpdmdl=31200\">\n",
       " \t\t\t\t\t\t\t\t\tWeekly 190720 to 250720\t\t\t\t\t\t\t\t\t</a>,\n",
       " <a href=\"https://posoco.in/download/weekly-120720-to-180720/?wpdmdl=30339\">\n",
       " \t\t\t\t\t\t\t\t\tWeekly 120720 to 180720\t\t\t\t\t\t\t\t\t</a>,\n",
       " <a href=\"https://posoco.in/download/weekly-050720-to-110720-pdf/?wpdmdl=30275\">\n",
       " \t\t\t\t\t\t\t\t\tWeekly 050720 to 110720.pdf\t\t\t\t\t\t\t\t\t</a>,\n",
       " <a href=\"https://posoco.in/download/weekly-280620-to-040720/?wpdmdl=30128\">\n",
       " \t\t\t\t\t\t\t\t\tWeekly 280620 to 040720\t\t\t\t\t\t\t\t\t</a>,\n",
       " <a href=\"https://posoco.in/download/weekly_210620-to-270620/?wpdmdl=29990\">\n",
       " \t\t\t\t\t\t\t\t\tWeekly_210620 to 270620\t\t\t\t\t\t\t\t\t</a>,\n",
       " <a href=\"https://posoco.in/download/weekly-140620-to-200620/?wpdmdl=29823\">\n",
       " \t\t\t\t\t\t\t\t\tWeekly 140620 to 200620\t\t\t\t\t\t\t\t\t</a>,\n",
       " <a href=\"https://posoco.in/download/weekly-070620-to-130620/?wpdmdl=29706\">\n",
       " \t\t\t\t\t\t\t\t\tWeekly 070620 to 130620\t\t\t\t\t\t\t\t\t</a>,\n",
       " <a href=\"https://posoco.in/download/weekly-310520-to-060520/?wpdmdl=29561\">\n",
       " \t\t\t\t\t\t\t\t\tWeekly 310520 to 060620\t\t\t\t\t\t\t\t\t</a>,\n",
       " <a href=\"https://posoco.in/download/weekly-240520-to-300520/?wpdmdl=29410\">\n",
       " \t\t\t\t\t\t\t\t\tWeekly 240520 to 300520\t\t\t\t\t\t\t\t\t</a>,\n",
       " <a href=\"https://posoco.in/download/weekly-170520-to-230520/?wpdmdl=29233\">\n",
       " \t\t\t\t\t\t\t\t\tWeekly 170520 to 230520\t\t\t\t\t\t\t\t\t</a>,\n",
       " <a href=\"https://posoco.in/download/weekly-100520-to-160520/?wpdmdl=29124\">\n",
       " \t\t\t\t\t\t\t\t\tWeekly 100520 to 160520\t\t\t\t\t\t\t\t\t</a>,\n",
       " <a href=\"https://posoco.in/download/weekly-030520-to-090520/?wpdmdl=28971\">\n",
       " \t\t\t\t\t\t\t\t\tWeekly 030520 to 090520\t\t\t\t\t\t\t\t\t</a>,\n",
       " <a href=\"https://posoco.in/download/weekly-260420-to-020520/?wpdmdl=28827\">\n",
       " \t\t\t\t\t\t\t\t\tWeekly 260420 to 020520\t\t\t\t\t\t\t\t\t</a>,\n",
       " <a href=\"https://posoco.in/download/weekly-190420-to-250420/?wpdmdl=28687\">\n",
       " \t\t\t\t\t\t\t\t\tWeekly 190420 to 250420\t\t\t\t\t\t\t\t\t</a>,\n",
       " <a href=\"https://posoco.in/download/weekly-120420-to-180420/?wpdmdl=28545\">\n",
       " \t\t\t\t\t\t\t\t\tWeekly 120420 to 180420\t\t\t\t\t\t\t\t\t</a>,\n",
       " <a href=\"https://posoco.in/download/weekly-050420-to-110420/?wpdmdl=28438\">\n",
       " \t\t\t\t\t\t\t\t\tWeekly 050420 to 110420\t\t\t\t\t\t\t\t\t</a>,\n",
       " <a href=\"https://posoco.in/download/weekly-290320-to-040420/?wpdmdl=28305\">\n",
       " \t\t\t\t\t\t\t\t\tWeekly 290320 to 040420\t\t\t\t\t\t\t\t\t</a>,\n",
       " <a href=\"https://posoco.in/awards/\" itemprop=\"url\">Awards</a>,\n",
       " <a href=\"https://posoco.in/side-menu-pages/tenders/\" itemprop=\"url\">Tenders</a>,\n",
       " <a href=\"https://posoco.in/useful-links/rti/\" itemprop=\"url\">RTI</a>,\n",
       " <a href=\"https://posoco.in/compliance/\" itemprop=\"url\">Compliance</a>,\n",
       " <a href=\"https://posoco.in/site-map/\" itemprop=\"url\">Site Map</a>,\n",
       " <a href=\"https://posoco.in/useful-links/feedback/\" itemprop=\"url\">Feedback &amp; Grievances</a>,\n",
       " <a href=\"https://posoco.in/useful-links/contact-us/\" itemprop=\"url\">Contact Us</a>,\n",
       " <a href=\"https://www.linkedin.com/company/power-system-operation-corporation-ltd\" rel=\"noopener noreferrer\" target=\"_blank\"><svg aria-labelledby=\"social-linkedin-3\" class=\"social-linkedin\" role=\"img\"><title id=\"social-linkedin-3\">LinkedIn</title><use xlink:href=\"https://posoco.in/wp-content/plugins/simple-social-icons/symbol-defs.svg#social-linkedin\"></use></svg></a>,\n",
       " <a href=\"https://twitter.com/posocoindia\" rel=\"noopener noreferrer\" target=\"_blank\"><svg aria-labelledby=\"social-twitter-3\" class=\"social-twitter\" role=\"img\"><title id=\"social-twitter-3\">Twitter</title><use xlink:href=\"https://posoco.in/wp-content/plugins/simple-social-icons/symbol-defs.svg#social-twitter\"></use></svg></a>,\n",
       " <a href=\"http://www.wpdownloadmanager.com/\">WordPress Download Manager - Best Download Management Plugin</a>]"
      ]
     },
     "execution_count": 7,
     "metadata": {},
     "output_type": "execute_result"
    }
   ],
   "source": [
    "arr"
   ]
  },
  {
   "cell_type": "code",
   "execution_count": 8,
   "metadata": {},
   "outputs": [],
   "source": [
    "arr=arr[len(arr)-38:219]\n",
    "#49 Reports and Link Array Length 250\n",
    "#28 Reports and Link Array Length 229 Till 20102020"
   ]
  },
  {
   "cell_type": "code",
   "execution_count": 9,
   "metadata": {},
   "outputs": [
    {
     "data": {
      "text/plain": [
       "[<a href=\"https://posoco.in/download/weekly-051020-to-111020/?wpdmdl=32448\">\n",
       " \t\t\t\t\t\t\t\t\tWeekly 051020 to 111020\t\t\t\t\t\t\t\t\t</a>,\n",
       " <a href=\"https://posoco.in/download/weekly-280920-to-041020/?wpdmdl=32383\">\n",
       " \t\t\t\t\t\t\t\t\tWeekly 280920 to 041020\t\t\t\t\t\t\t\t\t</a>,\n",
       " <a href=\"https://posoco.in/download/weekly-210920-to-270920/?wpdmdl=32198\">\n",
       " \t\t\t\t\t\t\t\t\tWeekly 210920 to 270920\t\t\t\t\t\t\t\t\t</a>,\n",
       " <a href=\"https://posoco.in/download/weekly-140920-to-200920/?wpdmdl=31989\">\n",
       " \t\t\t\t\t\t\t\t\tWeekly 140920 to 200920\t\t\t\t\t\t\t\t\t</a>,\n",
       " <a href=\"https://posoco.in/download/weekly-070920-to-130920/?wpdmdl=31908\">\n",
       " \t\t\t\t\t\t\t\t\tWeekly 070920 to 130920\t\t\t\t\t\t\t\t\t</a>,\n",
       " <a href=\"https://posoco.in/download/weekly-310820-to-060920/?wpdmdl=31733\">\n",
       " \t\t\t\t\t\t\t\t\tWeekly 310820 to 060920\t\t\t\t\t\t\t\t\t</a>,\n",
       " <a href=\"https://posoco.in/download/weekly-240820-to-300820/?wpdmdl=31552\">\n",
       " \t\t\t\t\t\t\t\t\tWeekly 240820 to 300820\t\t\t\t\t\t\t\t\t</a>,\n",
       " <a href=\"https://posoco.in/download/weekly-170820-to-230820/?wpdmdl=31456\">\n",
       " \t\t\t\t\t\t\t\t\tWeekly 170820 to 230820\t\t\t\t\t\t\t\t\t</a>,\n",
       " <a href=\"https://posoco.in/download/weekly-100820-to-160820/?wpdmdl=31202\">\n",
       " \t\t\t\t\t\t\t\t\tWeekly 100820 to 160820\t\t\t\t\t\t\t\t\t</a>,\n",
       " <a href=\"https://posoco.in/download/weekly-030820-to-090820/?wpdmdl=30947\">\n",
       " \t\t\t\t\t\t\t\t\tWeekly 030820 to 090820\t\t\t\t\t\t\t\t\t</a>,\n",
       " <a href=\"https://posoco.in/download/weekly-270720-to-020820/?wpdmdl=30740\">\n",
       " \t\t\t\t\t\t\t\t\tWeekly 270720 to 020820\t\t\t\t\t\t\t\t\t</a>,\n",
       " <a href=\"https://posoco.in/download/weekly-190720-to-250820/?wpdmdl=31200\">\n",
       " \t\t\t\t\t\t\t\t\tWeekly 190720 to 250720\t\t\t\t\t\t\t\t\t</a>,\n",
       " <a href=\"https://posoco.in/download/weekly-120720-to-180720/?wpdmdl=30339\">\n",
       " \t\t\t\t\t\t\t\t\tWeekly 120720 to 180720\t\t\t\t\t\t\t\t\t</a>,\n",
       " <a href=\"https://posoco.in/download/weekly-050720-to-110720-pdf/?wpdmdl=30275\">\n",
       " \t\t\t\t\t\t\t\t\tWeekly 050720 to 110720.pdf\t\t\t\t\t\t\t\t\t</a>,\n",
       " <a href=\"https://posoco.in/download/weekly-280620-to-040720/?wpdmdl=30128\">\n",
       " \t\t\t\t\t\t\t\t\tWeekly 280620 to 040720\t\t\t\t\t\t\t\t\t</a>,\n",
       " <a href=\"https://posoco.in/download/weekly_210620-to-270620/?wpdmdl=29990\">\n",
       " \t\t\t\t\t\t\t\t\tWeekly_210620 to 270620\t\t\t\t\t\t\t\t\t</a>,\n",
       " <a href=\"https://posoco.in/download/weekly-140620-to-200620/?wpdmdl=29823\">\n",
       " \t\t\t\t\t\t\t\t\tWeekly 140620 to 200620\t\t\t\t\t\t\t\t\t</a>,\n",
       " <a href=\"https://posoco.in/download/weekly-070620-to-130620/?wpdmdl=29706\">\n",
       " \t\t\t\t\t\t\t\t\tWeekly 070620 to 130620\t\t\t\t\t\t\t\t\t</a>,\n",
       " <a href=\"https://posoco.in/download/weekly-310520-to-060520/?wpdmdl=29561\">\n",
       " \t\t\t\t\t\t\t\t\tWeekly 310520 to 060620\t\t\t\t\t\t\t\t\t</a>,\n",
       " <a href=\"https://posoco.in/download/weekly-240520-to-300520/?wpdmdl=29410\">\n",
       " \t\t\t\t\t\t\t\t\tWeekly 240520 to 300520\t\t\t\t\t\t\t\t\t</a>,\n",
       " <a href=\"https://posoco.in/download/weekly-170520-to-230520/?wpdmdl=29233\">\n",
       " \t\t\t\t\t\t\t\t\tWeekly 170520 to 230520\t\t\t\t\t\t\t\t\t</a>,\n",
       " <a href=\"https://posoco.in/download/weekly-100520-to-160520/?wpdmdl=29124\">\n",
       " \t\t\t\t\t\t\t\t\tWeekly 100520 to 160520\t\t\t\t\t\t\t\t\t</a>,\n",
       " <a href=\"https://posoco.in/download/weekly-030520-to-090520/?wpdmdl=28971\">\n",
       " \t\t\t\t\t\t\t\t\tWeekly 030520 to 090520\t\t\t\t\t\t\t\t\t</a>,\n",
       " <a href=\"https://posoco.in/download/weekly-260420-to-020520/?wpdmdl=28827\">\n",
       " \t\t\t\t\t\t\t\t\tWeekly 260420 to 020520\t\t\t\t\t\t\t\t\t</a>,\n",
       " <a href=\"https://posoco.in/download/weekly-190420-to-250420/?wpdmdl=28687\">\n",
       " \t\t\t\t\t\t\t\t\tWeekly 190420 to 250420\t\t\t\t\t\t\t\t\t</a>,\n",
       " <a href=\"https://posoco.in/download/weekly-120420-to-180420/?wpdmdl=28545\">\n",
       " \t\t\t\t\t\t\t\t\tWeekly 120420 to 180420\t\t\t\t\t\t\t\t\t</a>,\n",
       " <a href=\"https://posoco.in/download/weekly-050420-to-110420/?wpdmdl=28438\">\n",
       " \t\t\t\t\t\t\t\t\tWeekly 050420 to 110420\t\t\t\t\t\t\t\t\t</a>,\n",
       " <a href=\"https://posoco.in/download/weekly-290320-to-040420/?wpdmdl=28305\">\n",
       " \t\t\t\t\t\t\t\t\tWeekly 290320 to 040420\t\t\t\t\t\t\t\t\t</a>]"
      ]
     },
     "execution_count": 9,
     "metadata": {},
     "output_type": "execute_result"
    }
   ],
   "source": [
    "arr"
   ]
  },
  {
   "cell_type": "code",
   "execution_count": 10,
   "metadata": {},
   "outputs": [
    {
     "data": {
      "text/plain": [
       "28"
      ]
     },
     "execution_count": 10,
     "metadata": {},
     "output_type": "execute_result"
    }
   ],
   "source": [
    "len(arr)"
   ]
  },
  {
   "cell_type": "code",
   "execution_count": 11,
   "metadata": {},
   "outputs": [],
   "source": [
    "for i,link in enumerate(arr):\n",
    "    filelink=link.get('href')\n",
    "    filename=arr[i].text.replace('\\t','').replace('\\n','')\n",
    "    response = requests.get(filelink) \n",
    "    open('pdffiles/2020-2021/'+filename+'.pdf', 'wb').write(response.content)"
   ]
  },
  {
   "cell_type": "code",
   "execution_count": 12,
   "metadata": {},
   "outputs": [
    {
     "data": {
      "text/plain": [
       "'Weekly 280920 to 041020'"
      ]
     },
     "execution_count": 12,
     "metadata": {},
     "output_type": "execute_result"
    }
   ],
   "source": [
    "arr[1].text.replace('\\t','').replace('\\n','')"
   ]
  }
 ],
 "metadata": {
  "kernelspec": {
   "display_name": "Python 3",
   "language": "python",
   "name": "python3"
  },
  "language_info": {
   "codemirror_mode": {
    "name": "ipython",
    "version": 3
   },
   "file_extension": ".py",
   "mimetype": "text/x-python",
   "name": "python",
   "nbconvert_exporter": "python",
   "pygments_lexer": "ipython3",
   "version": "3.7.2"
  }
 },
 "nbformat": 4,
 "nbformat_minor": 4
}
